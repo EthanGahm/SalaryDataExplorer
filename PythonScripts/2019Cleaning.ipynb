{
 "cells": [
  {
   "cell_type": "code",
   "execution_count": 1,
   "metadata": {},
   "outputs": [],
   "source": [
    "#from ipynb.fs.full.LocationCleaningScript import clean_location\n",
    "from ipynb.fs.full.cleanIndustries import cleanIndustries\n",
    "# from ipynb.fs.full.CurrencyConverter import *\n",
    "#from ipynb.fs.full.NormalizeWorkExperience import NormalizeExperience\n",
    "import pandas as pd\n",
    "import urllib.request\n",
    "import json\n",
    "from datascience import *\n",
    "import numpy as np\n",
    "import re\n",
    "import math\n",
    "def RemoveSpacesFromTitles(df):\n",
    "    \n",
    "    df.columns = [c.replace(' ', '_') for c in df.columns]\n",
    "    return df\n",
    "def NormalizeExperience(filename):\n",
    "    df = pd.read_csv(filename)\n",
    "    df = df.replace(to_replace = ['5-7 years'], value = '5 - 7 years')\n",
    "    df = df.replace(to_replace = ['1 year or less'], value = '0 - 1 years')\n",
    "    return df\n",
    "  \n",
    "\n",
    "#x = x.to_df()\n"
   ]
  },
  {
   "cell_type": "code",
   "execution_count": 2,
   "metadata": {},
   "outputs": [],
   "source": [
    "class currencyConverter:\n",
    "    rates = {}\n",
    "    def __init__(self, url):\n",
    "        data = urllib.request.urlopen(url).read().decode('utf-8')\n",
    "        f = json.loads(data)\n",
    "        self.rates = f[\"rates\"]\n",
    "        \n",
    "        \n",
    "    def convert(self, amount, f, t):\n",
    "        output = 0\n",
    "        if f != 'USD':\n",
    "            output = amount / self.rates[f] * self.rates['USD']\n",
    "            return output\n",
    "        return amount\n",
    "        \n",
    "def convertCurrency(df):\n",
    "    for i in range(len(df['Currency'])):\n",
    "        df[\"Annual_Salary\"][i]= str(    df[\"Annual_Salary\"][i] )\n",
    "        df[\"Annual_Salary\"][i]= ''.join(i for i in df[\"Annual_Salary\"][i] if i.isdigit())\n",
    "        if df[\"Currency\"][i] == \"Other\" or df[\"Annual_Salary\"][i] == \"\":\n",
    "            df[\"Annual_Salary\"][i] = 0\n",
    "        else:\n",
    "            df[\"Annual_Salary\"][i]=float(    df[\"Annual_Salary\"][i] )\n",
    "        \n",
    "       \n",
    "\n",
    "        \n",
    "        if df[\"Currency\"][i] in c.rates and df[\"Currency\"][i] != \"USD\" :\n",
    "            df['Annual_Salary'][i] =c.convert(float(df['Annual_Salary'][i]), df[\"Currency\"][i], 'USD')\n",
    "\n",
    "    return df\n",
    "\n",
    "c = currencyConverter(\"http://data.fixer.io/api/latest?access_key=238f1925907e0f01a7fa1dc2b4042967\")"
   ]
  },
  {
   "cell_type": "code",
   "execution_count": 3,
   "metadata": {},
   "outputs": [],
   "source": [
    "def clean2019locs(tbl):\n",
    "    data = list(tbl[\"Location\"])\n",
    "    for i in range(len(data)):\n",
    "        data[i] = str(data[i])\n",
    "        data[i] = data[i].strip()\n",
    "        chars = [\"'\",'\"',',','.','/',\"-\",'—']\n",
    "        if '(' in data[i]:\n",
    "            data[i] =data[i][:data[i].find(\"(\")]\n",
    "        for c in range(len(chars)):\n",
    "            if chars[c] in data[i]:\n",
    "                data[i] = data[i].replace(chars[c],\" \")\n",
    "    tbl[\"Location\"] = data\n",
    "    return tbl\n",
    "        \n",
    "        "
   ]
  },
  {
   "cell_type": "code",
   "execution_count": 6,
   "metadata": {},
   "outputs": [],
   "source": [
    "table = NormalizeExperience('../Data/2019_Results.csv')\n",
    "table = RemoveSpacesFromTitles(table)\n",
    "table = cleanIndustries(table)\n",
    "table = convertCurrency(table)\n",
    "table = clean2019locs(table)\n",
    "table = Table.from_df(table)\n",
    "table = table.where(\"Annual_Salary\",are.below(10000000))\n",
    "#table\n",
    "#print(np.unique(table[\"Currency\"]))\n",
    "table.to_csv(\"CleanedData2019.csv\")\n"
   ]
  }
 ],
 "metadata": {
  "kernelspec": {
   "display_name": "Python 3",
   "language": "python",
   "name": "python3"
  },
  "language_info": {
   "codemirror_mode": {
    "name": "ipython",
    "version": 3
   },
   "file_extension": ".py",
   "mimetype": "text/x-python",
   "name": "python",
   "nbconvert_exporter": "python",
   "pygments_lexer": "ipython3",
   "version": "3.8.5"
  }
 },
 "nbformat": 4,
 "nbformat_minor": 4
}

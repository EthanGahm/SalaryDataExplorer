{
 "cells": [
  {
   "cell_type": "code",
   "execution_count": null,
   "metadata": {},
   "outputs": [],
   "source": [
    "import pandas as pd\n",
    "import requests\n",
    "%store -r apiKey"
   ]
  },
  {
   "cell_type": "code",
   "execution_count": null,
   "metadata": {},
   "outputs": [],
   "source": [
    "def extractLatLng(location):\n",
    "    lat, lng = None, None \n",
    "    api_key = apiKey\n",
    "    base_url = \"https://maps.googleapis.com/maps/api/geocode/json\"\n",
    "    endpoint = f\"{base_url}?address={location}&key={api_key}\"\n",
    "    r = requests.get(endpoint)\n",
    "    if r.status_code not in range(200, 299):\n",
    "        return None, None\n",
    "    try:\n",
    "        '''\n",
    "        This try block incase any of our inputs are invalid. This is done instead\n",
    "        of actually writing out handlers for all kinds of responses.\n",
    "        '''\n",
    "        results = r.json()['results'][0]\n",
    "        lat = results['geometry']['location']['lat']\n",
    "        lng = results['geometry']['location']['lng']\n",
    "    except:\n",
    "        pass\n",
    "    return lat, lng"
   ]
  },
  {
   "cell_type": "code",
   "execution_count": null,
   "metadata": {},
   "outputs": [],
   "source": [
    "tbl = pd.read_csv(\"../Data/FinalData2021.csv\")\n",
    "countries = list(tbl[\"Country\"])\n",
    "states = list(tbl[\"State\"])\n",
    "cities = list(tbl[\"City\"])\n",
    "tbl = tbl.fillna(\"\")\n",
    "tbl[\"address\"] = tbl[\"City\"].map(str) + \" \" + tbl[\"State\"].map(str)+ \" \" + tbl[\"Country\"].map(str)\n",
    "print(tbl[\"address\"])\n",
    "    \n",
    "\n",
    "\n",
    "    \n",
    "    "
   ]
  },
  {
   "cell_type": "code",
   "execution_count": null,
   "metadata": {},
   "outputs": [],
   "source": [
    "locationList = list(tbl[\"address\"])\n",
    "latList = []\n",
    "lngList = []\n",
    "for location in range(len(locationList)):\n",
    "    lat, lng = extractLatLng(locationList[location])\n",
    "   \n",
    "    latList.append(lat)\n",
    "    lngList.append(lng)\n",
    "    \n",
    "tbl[\"Lat\"] = latList\n",
    "tbl[\"Lng\"] = lngList\n",
    "print(tbl[\"Lat\"])\n"
   ]
  }
 ],
 "metadata": {
  "kernelspec": {
   "display_name": "Python 3",
   "language": "python",
   "name": "python3"
  },
  "language_info": {
   "codemirror_mode": {
    "name": "ipython",
    "version": 3
   },
   "file_extension": ".py",
   "mimetype": "text/x-python",
   "name": "python",
   "nbconvert_exporter": "python",
   "pygments_lexer": "ipython3",
   "version": "3.8.3"
  }
 },
 "nbformat": 4,
 "nbformat_minor": 4
}

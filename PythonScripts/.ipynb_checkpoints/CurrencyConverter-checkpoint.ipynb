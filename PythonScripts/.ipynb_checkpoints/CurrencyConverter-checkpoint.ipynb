{
 "cells": [
  {
   "cell_type": "code",
   "execution_count": null,
   "id": "1186a176-324c-4145-a9d2-63ea063e6d97",
   "metadata": {},
   "outputs": [
    {
     "name": "stderr",
     "output_type": "stream",
     "text": [
      "<ipython-input-66-6efe9cdf0ad7>:26: SettingWithCopyWarning: \n",
      "A value is trying to be set on a copy of a slice from a DataFrame\n",
      "\n",
      "See the caveats in the documentation: https://pandas.pydata.org/pandas-docs/stable/user_guide/indexing.html#returning-a-view-versus-a-copy\n",
      "  df['Annual Salary'][i] = df['Annual Salary'][i].replace(',', '')\n",
      "<ipython-input-66-6efe9cdf0ad7>:41: SettingWithCopyWarning: \n",
      "A value is trying to be set on a copy of a slice from a DataFrame\n",
      "\n",
      "See the caveats in the documentation: https://pandas.pydata.org/pandas-docs/stable/user_guide/indexing.html#returning-a-view-versus-a-copy\n",
      "  df['Annual Salary'][i] = \"{:.2f}\".format(float(df['Other Compensation'][i]) + float(df['Annual Salary'][i]))\n",
      "<ipython-input-66-6efe9cdf0ad7>:38: SettingWithCopyWarning: \n",
      "A value is trying to be set on a copy of a slice from a DataFrame\n",
      "\n",
      "See the caveats in the documentation: https://pandas.pydata.org/pandas-docs/stable/user_guide/indexing.html#returning-a-view-versus-a-copy\n",
      "  df['Annual Salary'][i] = c.convert(float(salary), f, 'USD')\n",
      "<ipython-input-66-6efe9cdf0ad7>:39: SettingWithCopyWarning: \n",
      "A value is trying to be set on a copy of a slice from a DataFrame\n",
      "\n",
      "See the caveats in the documentation: https://pandas.pydata.org/pandas-docs/stable/user_guide/indexing.html#returning-a-view-versus-a-copy\n",
      "  df['Other Compensation'][i] = c.convert(float(otherComp), f, 'USD')\n",
      "<ipython-input-66-6efe9cdf0ad7>:32: SettingWithCopyWarning: \n",
      "A value is trying to be set on a copy of a slice from a DataFrame\n",
      "\n",
      "See the caveats in the documentation: https://pandas.pydata.org/pandas-docs/stable/user_guide/indexing.html#returning-a-view-versus-a-copy\n",
      "  df['Annual Salary'][i] = c.convert(float(salary), otherCur, 'USD')\n",
      "<ipython-input-66-6efe9cdf0ad7>:34: SettingWithCopyWarning: \n",
      "A value is trying to be set on a copy of a slice from a DataFrame\n",
      "\n",
      "See the caveats in the documentation: https://pandas.pydata.org/pandas-docs/stable/user_guide/indexing.html#returning-a-view-versus-a-copy\n",
      "  df['Other Compensation'][i] = c.convert(float(otherComp), otherCur, 'USD')\n"
     ]
    }
   ],
   "source": [
    "import pandas as pd\n",
    "import urllib.request\n",
    "import json\n",
    "\n",
    "class currencyConverter:\n",
    "    rates = {}\n",
    "    def __init__(self, url):\n",
    "        data = urllib.request.urlopen(url).read().decode('utf-8')\n",
    "        f = json.loads(data)\n",
    "#         print(f)\n",
    "        self.rates = f[\"rates\"]\n",
    "        \n",
    "        \n",
    "    def convert(self, amount, f, t):\n",
    "        output = 0\n",
    "        if f != 'USD':\n",
    "            output = amount / self.rates[f] * self.rates['USD']\n",
    "            return output\n",
    "        return amount\n",
    "        \n",
    "def convertCurrency(file):\n",
    "    df = pd.read_csv(file + \".csv\")\n",
    "    for i in range(len(df['Currency'])):\n",
    "        f = df['Currency'][i]\n",
    "        df['Annual Salary'][i] = df['Annual Salary'][i].replace(',', '')\n",
    "        salary = df['Annual Salary'][i]\n",
    "        otherComp = df['Other Compensation'][i]\n",
    "        if f == 'Other':\n",
    "            otherCur = df['Other'][i]\n",
    "            if otherCur in c.rates:\n",
    "                df['Annual Salary'][i] = c.convert(float(salary), otherCur, 'USD')\n",
    "                if otherComp != \"\" and otherComp != \"0\":\n",
    "                    df['Other Compensation'][i] = c.convert(float(otherComp), otherCur, 'USD')\n",
    "        elif f != 'USD':\n",
    "            if f == 'AUD/NZD':\n",
    "                f = 'AUD'\n",
    "            df['Annual Salary'][i] = c.convert(float(salary), f, 'USD')\n",
    "            df['Other Compensation'][i] = c.convert(float(otherComp), f, 'USD')\n",
    "        if df['Other Compensation'][i] != \"\":\n",
    "            df['Annual Salary'][i] = \"{:.2f}\".format(float(df['Other Compensation'][i]) + float(df['Annual Salary'][i]))\n",
    "    return df\n",
    "\n",
    "c = currencyConverter(\"http://data.fixer.io/api/latest?access_key=238f1925907e0f01a7fa1dc2b4042967\")\n",
    "# print(c.convert(5, 'EUR', 'USD'))\n",
    "convertCurrency(\"2021_Results\")"
   ]
  }
 ],
 "metadata": {
  "kernelspec": {
   "display_name": "Python 3",
   "language": "python",
   "name": "python3"
  },
  "language_info": {
   "codemirror_mode": {
    "name": "ipython",
    "version": 3
   },
   "file_extension": ".py",
   "mimetype": "text/x-python",
   "name": "python",
   "nbconvert_exporter": "python",
   "pygments_lexer": "ipython3",
   "version": "3.8.8"
  }
 },
 "nbformat": 4,
 "nbformat_minor": 5
}

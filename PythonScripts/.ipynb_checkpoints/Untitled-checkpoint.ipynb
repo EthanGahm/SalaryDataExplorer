{
 "cells": [
  {
   "cell_type": "code",
   "execution_count": 1,
   "metadata": {},
   "outputs": [],
   "source": [
    "import numpy as np\n",
    "import math\n",
    "import pandas as pd\n",
    "from datascience import *\n",
    "import country_converter as cc\n",
    "from autocorrect import Speller as sp\n",
    "from array import *\n",
    "from geotext import GeoText\n",
    "from spellchecker import SpellChecker\n",
    "import re\n",
    "tbl = pd.read_csv('../Data/Re-CleanedData2021.csv')"
   ]
  },
  {
   "cell_type": "code",
   "execution_count": 18,
   "metadata": {},
   "outputs": [
    {
     "name": "stdout",
     "output_type": "stream",
     "text": [
      "['18-24' '25-34' '35-44' '45-54' '55-64' '65 or over' 'under 18']\n",
      "[\n",
      "\"18-24\",\n",
      "\"25-34\",\n",
      "\"35-44\",\n",
      "\"45-54\",\n",
      "\"55-64\",\n",
      "\"65 or over\",\n",
      "\"under 18\",\n",
      "]\n"
     ]
    }
   ],
   "source": [
    "# print(np.unique(tbl['Age']))\n",
    "print(\"[\")\n",
    "for i in range(len(np.unique(tbl['Age']))):\n",
    "    print('\"'+np.unique(tbl['Age'])[i]+'\",')\n",
    "print(\"]\")"
   ]
  }
 ],
 "metadata": {
  "kernelspec": {
   "display_name": "Python 3",
   "language": "python",
   "name": "python3"
  },
  "language_info": {
   "codemirror_mode": {
    "name": "ipython",
    "version": 3
   },
   "file_extension": ".py",
   "mimetype": "text/x-python",
   "name": "python",
   "nbconvert_exporter": "python",
   "pygments_lexer": "ipython3",
   "version": "3.8.5"
  }
 },
 "nbformat": 4,
 "nbformat_minor": 4
}

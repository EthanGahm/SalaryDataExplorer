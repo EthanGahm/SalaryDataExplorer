{
 "cells": [
  {
   "cell_type": "code",
   "execution_count": 5,
   "metadata": {},
   "outputs": [
    {
     "ename": "ModuleNotFoundError",
     "evalue": "No module named 'ipynb'",
     "output_type": "error",
     "traceback": [
      "\u001b[1;31m---------------------------------------------------------------------------\u001b[0m",
      "\u001b[1;31mModuleNotFoundError\u001b[0m                       Traceback (most recent call last)",
      "\u001b[1;32m<ipython-input-5-6941b23c5814>\u001b[0m in \u001b[0;36m<module>\u001b[1;34m\u001b[0m\n\u001b[1;32m----> 1\u001b[1;33m \u001b[1;32mfrom\u001b[0m \u001b[0mipynb\u001b[0m\u001b[1;33m.\u001b[0m\u001b[0mfs\u001b[0m\u001b[1;33m.\u001b[0m\u001b[0mfull\u001b[0m\u001b[1;33m.\u001b[0m\u001b[0mLocationCleaningScript\u001b[0m \u001b[1;32mimport\u001b[0m \u001b[0mclean_location\u001b[0m\u001b[1;33m\u001b[0m\u001b[1;33m\u001b[0m\u001b[0m\n\u001b[0m\u001b[0;32m      2\u001b[0m \u001b[1;32mfrom\u001b[0m \u001b[0mipynb\u001b[0m\u001b[1;33m.\u001b[0m\u001b[0mfs\u001b[0m\u001b[1;33m.\u001b[0m\u001b[0mfull\u001b[0m\u001b[1;33m.\u001b[0m\u001b[0mcleanIndustries\u001b[0m \u001b[1;32mimport\u001b[0m \u001b[0mcleanIndustries\u001b[0m\u001b[1;33m\u001b[0m\u001b[1;33m\u001b[0m\u001b[0m\n\u001b[0;32m      3\u001b[0m \u001b[1;31m# from ipynb.fs.full.CurrencyConverter import *\u001b[0m\u001b[1;33m\u001b[0m\u001b[1;33m\u001b[0m\u001b[1;33m\u001b[0m\u001b[0m\n\u001b[0;32m      4\u001b[0m \u001b[1;31m#from ipynb.fs.full.NormalizeWorkExperience import NormalizeExperience\u001b[0m\u001b[1;33m\u001b[0m\u001b[1;33m\u001b[0m\u001b[1;33m\u001b[0m\u001b[0m\n\u001b[0;32m      5\u001b[0m \u001b[1;32mimport\u001b[0m \u001b[0mpandas\u001b[0m \u001b[1;32mas\u001b[0m \u001b[0mpd\u001b[0m\u001b[1;33m\u001b[0m\u001b[1;33m\u001b[0m\u001b[0m\n",
      "\u001b[1;31mModuleNotFoundError\u001b[0m: No module named 'ipynb'"
     ]
    }
   ],
   "source": [
    "from ipynb.fs.full.LocationCleaningScript import clean_location\n",
    "from ipynb.fs.full.cleanIndustries import cleanIndustries\n",
    "# from ipynb.fs.full.CurrencyConverter import *\n",
    "#from ipynb.fs.full.NormalizeWorkExperience import NormalizeExperience\n",
    "import pandas as pd\n",
    "import urllib.request\n",
    "import json\n",
    "from datascience import *\n",
    "def RemoveSpacesFromTitles(df):\n",
    "    \n",
    "    df.columns = [c.replace(' ', '_') for c in df.columns]\n",
    "    return df\n",
    "def NormalizeExperience(filename):\n",
    "    df = pandas.read_csv(filename)\n",
    "    df.replace(to_replace = ['5-7 years'], value = '5 - 7 years')\n",
    "    df.replace(to_replace = ['1 year or less'], value = '0 - 1 years')\n",
    "    return df\n",
    "  \n",
    "\n",
    "#x = x.to_df()"
   ]
  },
  {
   "cell_type": "code",
   "execution_count": 8,
   "metadata": {},
   "outputs": [
    {
     "ename": "NameError",
     "evalue": "name 'urllib' is not defined",
     "output_type": "error",
     "traceback": [
      "\u001b[1;31m---------------------------------------------------------------------------\u001b[0m",
      "\u001b[1;31mNameError\u001b[0m                                 Traceback (most recent call last)",
      "\u001b[1;32m<ipython-input-8-8102ec537e6f>\u001b[0m in \u001b[0;36m<module>\u001b[1;34m\u001b[0m\n\u001b[0;32m     73\u001b[0m     \u001b[1;32mreturn\u001b[0m \u001b[0mdf\u001b[0m\u001b[1;33m\u001b[0m\u001b[1;33m\u001b[0m\u001b[0m\n\u001b[0;32m     74\u001b[0m \u001b[1;33m\u001b[0m\u001b[0m\n\u001b[1;32m---> 75\u001b[1;33m \u001b[0mc\u001b[0m \u001b[1;33m=\u001b[0m \u001b[0mcurrencyConverter\u001b[0m\u001b[1;33m(\u001b[0m\u001b[1;34m\"http://data.fixer.io/api/latest?access_key=238f1925907e0f01a7fa1dc2b4042967\"\u001b[0m\u001b[1;33m)\u001b[0m\u001b[1;33m\u001b[0m\u001b[1;33m\u001b[0m\u001b[0m\n\u001b[0m",
      "\u001b[1;32m<ipython-input-8-8102ec537e6f>\u001b[0m in \u001b[0;36m__init__\u001b[1;34m(self, url)\u001b[0m\n\u001b[0;32m      2\u001b[0m     \u001b[0mrates\u001b[0m \u001b[1;33m=\u001b[0m \u001b[1;33m{\u001b[0m\u001b[1;33m}\u001b[0m\u001b[1;33m\u001b[0m\u001b[1;33m\u001b[0m\u001b[0m\n\u001b[0;32m      3\u001b[0m     \u001b[1;32mdef\u001b[0m \u001b[0m__init__\u001b[0m\u001b[1;33m(\u001b[0m\u001b[0mself\u001b[0m\u001b[1;33m,\u001b[0m \u001b[0murl\u001b[0m\u001b[1;33m)\u001b[0m\u001b[1;33m:\u001b[0m\u001b[1;33m\u001b[0m\u001b[1;33m\u001b[0m\u001b[0m\n\u001b[1;32m----> 4\u001b[1;33m         \u001b[0mdata\u001b[0m \u001b[1;33m=\u001b[0m \u001b[0murllib\u001b[0m\u001b[1;33m.\u001b[0m\u001b[0mrequest\u001b[0m\u001b[1;33m.\u001b[0m\u001b[0murlopen\u001b[0m\u001b[1;33m(\u001b[0m\u001b[0murl\u001b[0m\u001b[1;33m)\u001b[0m\u001b[1;33m.\u001b[0m\u001b[0mread\u001b[0m\u001b[1;33m(\u001b[0m\u001b[1;33m)\u001b[0m\u001b[1;33m.\u001b[0m\u001b[0mdecode\u001b[0m\u001b[1;33m(\u001b[0m\u001b[1;34m'utf-8'\u001b[0m\u001b[1;33m)\u001b[0m\u001b[1;33m\u001b[0m\u001b[1;33m\u001b[0m\u001b[0m\n\u001b[0m\u001b[0;32m      5\u001b[0m         \u001b[0mf\u001b[0m \u001b[1;33m=\u001b[0m \u001b[0mjson\u001b[0m\u001b[1;33m.\u001b[0m\u001b[0mloads\u001b[0m\u001b[1;33m(\u001b[0m\u001b[0mdata\u001b[0m\u001b[1;33m)\u001b[0m\u001b[1;33m\u001b[0m\u001b[1;33m\u001b[0m\u001b[0m\n\u001b[0;32m      6\u001b[0m         \u001b[0mself\u001b[0m\u001b[1;33m.\u001b[0m\u001b[0mrates\u001b[0m \u001b[1;33m=\u001b[0m \u001b[0mf\u001b[0m\u001b[1;33m[\u001b[0m\u001b[1;34m\"rates\"\u001b[0m\u001b[1;33m]\u001b[0m\u001b[1;33m\u001b[0m\u001b[1;33m\u001b[0m\u001b[0m\n",
      "\u001b[1;31mNameError\u001b[0m: name 'urllib' is not defined"
     ]
    }
   ],
   "source": [
    "class currencyConverter:\n",
    "    rates = {}\n",
    "    def __init__(self, url):\n",
    "        data = urllib.request.urlopen(url).read().decode('utf-8')\n",
    "        f = json.loads(data)\n",
    "        self.rates = f[\"rates\"]\n",
    "        \n",
    "        \n",
    "    def convert(self, amount, f, t):\n",
    "        output = 0\n",
    "        if f != 'USD':\n",
    "            output = amount / self.rates[f] * self.rates['USD']\n",
    "            return output\n",
    "        return amount\n",
    "        \n",
    "def convertCurrency(df):\n",
    "    for i in range(len(df['Currency'])):\n",
    "        f = df['Currency'][i]\n",
    "        salary = df['Annual_Salary'][i].replace(',', '')\n",
    "        otherComp = df['Other_Compensation'][i]\n",
    "        if not pd.isna(df['Other_Compensation'][i]):\n",
    "            salary = float(salary) + float(otherComp)\n",
    "        if f == 'Other':\n",
    "            otherCur = df['Other'][i]\n",
    "            if otherCur == 'Peso Argentino' or otherCur == 'Argentinian peso (ARS)' or otherCur == 'Argentine Peso':\n",
    "                otherCur = 'ARS'\n",
    "            if otherCur == 'Indian rupees' or otherCur == 'INR (Indian Rupee)':\n",
    "                otherCur = 'INR'\n",
    "            if otherCur == 'BRL (R$)' or otherCur == 'BR$':\n",
    "                otherCur = 'BRL'\n",
    "            if otherCur == 'Dkk' or otherCur == 'Danish Kroner' or otherCur == 'dkk':\n",
    "                otherCur = 'DKK'\n",
    "            if otherCur == 'Mexican pesos' or otherCur == 'Mexican Pesos':\n",
    "                otherCur = 'MXN'\n",
    "            if otherCur == 'Bdt':\n",
    "                otherCur = 'BDT'\n",
    "            if otherCur == 'American Dollars':\n",
    "                otherCur = 'USD'\n",
    "            if otherCur == 'Php' or otherCur == 'Philippine Peso' or otherCur == 'Philippine peso (PHP)' or otherCur == 'PhP (Philippine Peso)' or otherCur == 'Philippine Pesos':\n",
    "                otherCur = 'PHP'\n",
    "            if otherCur == 'PLN (Polish zloty)' or otherCur == 'Polish Złoty':\n",
    "                otherCur = 'PLN'\n",
    "            if otherCur == 'czech crowns' or otherCur == 'Czk':\n",
    "                otherCur = 'CZK'\n",
    "            if otherCur == 'Norwegian kroner (NOK)' or otherCur == 'Nok':\n",
    "                otherCur = 'NOK'\n",
    "            if otherCur == 'ILS/NIS' or otherCur == 'NIS (new Israeli shekel)' or otherCur == 'ILS (Shekel)' or otherCur == 'Israeli Shekels' or otherCur == 'Ils':\n",
    "                otherCur = 'ILS'\n",
    "            if otherCur == 'US Dollar':\n",
    "                otherCur = 'USD'\n",
    "            if otherCur == 'RMB (chinese yuan)' or otherCur == 'China RMB' or otherCur == 'RM':\n",
    "                otherCur = 'CNY'\n",
    "            if otherCur == 'Taiwanese dollars' or otherCur == 'NTD':\n",
    "                otherCur = 'TWD'\n",
    "            if otherCur == 'KRW (Korean Won)' or otherCur == 'Korean Won ':\n",
    "                otherCur = 'KRW'\n",
    "            if otherCur == 'Sgd':\n",
    "                otherCur = 'SGD'\n",
    "            if otherCur == 'AUD Australian' or otherCur == 'Australian Dollars ':\n",
    "                otherCur = 'AUD'\n",
    "            if otherCur == 'Euro':\n",
    "                otherCur = 'EUR'\n",
    "            if otherCur == 'THAI  BAHT':\n",
    "                otherCur = 'THB'\n",
    "            if otherCur == 'IDR ': # Whoever typed an extra space here is PURE EVIL\n",
    "                otherCur = 'IDR'\n",
    "            if otherCur in c.rates:\n",
    "                df['Annual_Salary'][i] = \"{:.2f}\".format(c.convert(float(salary), otherCur, 'USD'))\n",
    "        else:\n",
    "            if f == 'AUD/NZD':\n",
    "                f = 'AUD'\n",
    "            df['Annual_Salary'][i] = \"{:.2f}\".format(c.convert(float(salary), f, 'USD'))\n",
    "    return df\n",
    "\n",
    "c = currencyConverter(\"http://data.fixer.io/api/latest?access_key=238f1925907e0f01a7fa1dc2b4042967\")"
   ]
  },
  {
   "cell_type": "code",
   "execution_count": 9,
   "metadata": {},
   "outputs": [
    {
     "ename": "NameError",
     "evalue": "name 'NormalizeExperience' is not defined",
     "output_type": "error",
     "traceback": [
      "\u001b[1;31m---------------------------------------------------------------------------\u001b[0m",
      "\u001b[1;31mNameError\u001b[0m                                 Traceback (most recent call last)",
      "\u001b[1;32m<ipython-input-9-fb508aa6150e>\u001b[0m in \u001b[0;36m<module>\u001b[1;34m\u001b[0m\n\u001b[1;32m----> 1\u001b[1;33m \u001b[0mtable\u001b[0m \u001b[1;33m=\u001b[0m \u001b[0mNormalizeExperience\u001b[0m\u001b[1;33m(\u001b[0m\u001b[1;34m'../2021_Results.csv'\u001b[0m\u001b[1;33m)\u001b[0m\u001b[1;33m\u001b[0m\u001b[1;33m\u001b[0m\u001b[0m\n\u001b[0m\u001b[0;32m      2\u001b[0m \u001b[0mtable\u001b[0m \u001b[1;33m=\u001b[0m \u001b[0mRemoveSpacesFromTitles\u001b[0m\u001b[1;33m(\u001b[0m\u001b[0mtable\u001b[0m\u001b[1;33m)\u001b[0m\u001b[1;33m\u001b[0m\u001b[1;33m\u001b[0m\u001b[0m\n\u001b[0;32m      3\u001b[0m \u001b[0mfinal_table\u001b[0m \u001b[1;33m=\u001b[0m \u001b[0mclean_location\u001b[0m\u001b[1;33m(\u001b[0m\u001b[0mTable\u001b[0m\u001b[1;33m.\u001b[0m\u001b[0mfrom_df\u001b[0m\u001b[1;33m(\u001b[0m\u001b[0mtable\u001b[0m\u001b[1;33m)\u001b[0m\u001b[1;33m)\u001b[0m\u001b[1;33m\u001b[0m\u001b[1;33m\u001b[0m\u001b[0m\n\u001b[0;32m      4\u001b[0m \u001b[0mfinal_table\u001b[0m \u001b[1;33m=\u001b[0m \u001b[0mfinal_table\u001b[0m\u001b[1;33m.\u001b[0m\u001b[0mto_df\u001b[0m\u001b[1;33m(\u001b[0m\u001b[1;33m)\u001b[0m\u001b[1;33m\u001b[0m\u001b[1;33m\u001b[0m\u001b[0m\n\u001b[0;32m      5\u001b[0m \u001b[0mfinal_table\u001b[0m \u001b[1;33m=\u001b[0m \u001b[0mconvertCurrency\u001b[0m\u001b[1;33m(\u001b[0m\u001b[0mfinal_table\u001b[0m\u001b[1;33m)\u001b[0m\u001b[1;33m\u001b[0m\u001b[1;33m\u001b[0m\u001b[0m\n",
      "\u001b[1;31mNameError\u001b[0m: name 'NormalizeExperience' is not defined"
     ]
    }
   ],
   "source": [
    "table = NormalizeExperience('../2021_Results.csv')\n",
    "table = RemoveSpacesFromTitles(table)\n",
    "final_table = clean_location(Table.from_df(table))\n",
    "final_table = final_table.to_df()\n",
    "final_table = convertCurrency(final_table)\n",
    "final_table = cleanIndustries(final_table)\n",
    "final_table.to_csv(\"CleanedData2021.csv\")"
   ]
  }
 ],
 "metadata": {
  "kernelspec": {
   "display_name": "Python 3",
   "language": "python",
   "name": "python3"
  },
  "language_info": {
   "codemirror_mode": {
    "name": "ipython",
    "version": 3
   },
   "file_extension": ".py",
   "mimetype": "text/x-python",
   "name": "python",
   "nbconvert_exporter": "python",
   "pygments_lexer": "ipython3",
   "version": "3.8.8"
  }
 },
 "nbformat": 4,
 "nbformat_minor": 4
}

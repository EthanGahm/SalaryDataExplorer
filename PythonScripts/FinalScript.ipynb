{
 "cells": [
  {
   "cell_type": "code",
   "execution_count": 60,
   "metadata": {},
   "outputs": [],
   "source": [
    "from ipynb.fs.full.LocationCleaningScript import clean_location\n",
    "from ipynb.fs.full.cleanIndustries import cleanIndustries\n",
    "#from ipynb.fs.full.CurrencyConverter import *\n",
    "#from ipynb.fs.full.NormalizeWorkExperience import NormalizeExperience\n",
    "import pandas as pd\n",
    "import urllib.request\n",
    "import json\n",
    "from datascience import *\n",
    "def RemoveSpacesFromTitles(df):\n",
    "    \n",
    "    df.columns = [c.replace(' ', '_') for c in df.columns]\n",
    "    return df\n",
    "def NormalizeExperience(filename):\n",
    "    df = pandas.read_csv(filename)\n",
    "    df.replace(to_replace = ['5-7 years'], value = '5 - 7 years')\n",
    "    df.replace(to_replace = ['1 year or less'], value = '0 - 1 years')\n",
    "    return df\n",
    "  \n",
    "\n",
    "#x = x.to_df()"
   ]
  },
  {
   "cell_type": "code",
   "execution_count": 56,
   "metadata": {},
   "outputs": [],
   "source": [
    "class currencyConverter:\n",
    "    rates = {}\n",
    "    def __init__(self, url):\n",
    "        data = urllib.request.urlopen(url).read().decode('utf-8')\n",
    "        f = json.loads(data)\n",
    "#         print(f)\n",
    "        self.rates = f[\"rates\"]\n",
    "        \n",
    "        \n",
    "    def convert(self, amount, f, t):\n",
    "        output = 0\n",
    "        if f != 'USD':\n",
    "            output = amount / self.rates[f] * self.rates['USD']\n",
    "            return output\n",
    "        return amount\n",
    "        \n",
    "def convertCurrency(df):\n",
    "    \n",
    "    for i in range(len(df['Currency'])):\n",
    "        f = df['Currency'][i]\n",
    "        df['Annual_Salary'][i] = df['Annual_Salary'][i].replace(',', '')\n",
    "        salary = df['Annual_Salary'][i]\n",
    "        otherComp = df['Other_Compensation'][i]\n",
    "        if f == 'Other':\n",
    "            otherCur = df['Other'][i]\n",
    "            if otherCur in c.rates:\n",
    "                df['Annual_Salary'][i] = c.convert(float(salary), otherCur, 'USD')\n",
    "                if otherComp != \"\" and otherComp != \"0\":\n",
    "                    df['Other_Compensation'][i] = c.convert(float(otherComp), otherCur, 'USD')\n",
    "        elif f != 'USD':\n",
    "            if f == 'AUD/NZD':\n",
    "                f = 'AUD'\n",
    "            df['Annual_Salary'][i] = c.convert(float(salary), f, 'USD')\n",
    "            df['Other_Compensation'][i] = c.convert(float(otherComp), f, 'USD')\n",
    "        if not pd.isna(df['Other_Compensation'][i]):\n",
    "            df['Annual_Salary'][i] = \"{:.2f}\".format(float(df['Other_Compensation'][i]) + float(df['Annual_Salary'][i]))\n",
    "    return df\n",
    "\n",
    "c = currencyConverter(\"http://data.fixer.io/api/latest?access_key=238f1925907e0f01a7fa1dc2b4042967\")"
   ]
  },
  {
   "cell_type": "code",
   "execution_count": 62,
   "metadata": {},
   "outputs": [
    {
     "name": "stderr",
     "output_type": "stream",
     "text": [
      "<ipython-input-56-ebb7c733c0ba>:21: SettingWithCopyWarning: \n",
      "A value is trying to be set on a copy of a slice from a DataFrame\n",
      "\n",
      "See the caveats in the documentation: https://pandas.pydata.org/pandas-docs/stable/user_guide/indexing.html#returning-a-view-versus-a-copy\n",
      "  df['Annual_Salary'][i] = df['Annual_Salary'][i].replace(',', '')\n",
      "<ipython-input-56-ebb7c733c0ba>:36: SettingWithCopyWarning: \n",
      "A value is trying to be set on a copy of a slice from a DataFrame\n",
      "\n",
      "See the caveats in the documentation: https://pandas.pydata.org/pandas-docs/stable/user_guide/indexing.html#returning-a-view-versus-a-copy\n",
      "  df['Annual_Salary'][i] = \"{:.2f}\".format(float(df['Other_Compensation'][i]) + float(df['Annual_Salary'][i]))\n",
      "<ipython-input-56-ebb7c733c0ba>:33: SettingWithCopyWarning: \n",
      "A value is trying to be set on a copy of a slice from a DataFrame\n",
      "\n",
      "See the caveats in the documentation: https://pandas.pydata.org/pandas-docs/stable/user_guide/indexing.html#returning-a-view-versus-a-copy\n",
      "  df['Annual_Salary'][i] = c.convert(float(salary), f, 'USD')\n",
      "<ipython-input-56-ebb7c733c0ba>:34: SettingWithCopyWarning: \n",
      "A value is trying to be set on a copy of a slice from a DataFrame\n",
      "\n",
      "See the caveats in the documentation: https://pandas.pydata.org/pandas-docs/stable/user_guide/indexing.html#returning-a-view-versus-a-copy\n",
      "  df['Other_Compensation'][i] = c.convert(float(otherComp), f, 'USD')\n",
      "<ipython-input-56-ebb7c733c0ba>:27: SettingWithCopyWarning: \n",
      "A value is trying to be set on a copy of a slice from a DataFrame\n",
      "\n",
      "See the caveats in the documentation: https://pandas.pydata.org/pandas-docs/stable/user_guide/indexing.html#returning-a-view-versus-a-copy\n",
      "  df['Annual_Salary'][i] = c.convert(float(salary), otherCur, 'USD')\n",
      "<ipython-input-56-ebb7c733c0ba>:29: SettingWithCopyWarning: \n",
      "A value is trying to be set on a copy of a slice from a DataFrame\n",
      "\n",
      "See the caveats in the documentation: https://pandas.pydata.org/pandas-docs/stable/user_guide/indexing.html#returning-a-view-versus-a-copy\n",
      "  df['Other_Compensation'][i] = c.convert(float(otherComp), otherCur, 'USD')\n"
     ]
    }
   ],
   "source": [
    "table = NormalizeExperience('../2021_Results.csv')\n",
    "table = RemoveSpacesFromTitles(table)\n",
    "final_table = clean_location(Table.from_df(table))\n",
    "final_table = final_table.to_df()\n",
    "final_table = convertCurrency(final_table)\n",
    "final_table = cleanIndustries(final_table)\n",
    "final_table.to_csv(\"CleanedData2021.csv\")"
   ]
  }
 ],
 "metadata": {
  "kernelspec": {
   "display_name": "Python 3",
   "language": "python",
   "name": "python3"
  },
  "language_info": {
   "codemirror_mode": {
    "name": "ipython",
    "version": 3
   },
   "file_extension": ".py",
   "mimetype": "text/x-python",
   "name": "python",
   "nbconvert_exporter": "python",
   "pygments_lexer": "ipython3",
   "version": "3.8.5"
  }
 },
 "nbformat": 4,
 "nbformat_minor": 4
}

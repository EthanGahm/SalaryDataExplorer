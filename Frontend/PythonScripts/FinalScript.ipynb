{
 "cells": [
  {
   "cell_type": "code",
   "execution_count": 65,
   "metadata": {},
   "outputs": [],
   "source": [
    "#from ipynb.fs.full.LocationCleaningScript import clean_location, standardize_cities\n",
    "from ipynb.fs.full.cleanIndustries import cleanIndustries\n",
    "# from ipynb.fs.full.CurrencyConverter import *\n",
    "#from ipynb.fs.full.NormalizeWorkExperience import NormalizeExperience\n",
    "import pandas as pd\n",
    "import urllib.request\n",
    "import json\n",
    "# from datascience import *\n",
    "def RemoveSpacesFromTitles(df):\n",
    "    \n",
    "    df.columns = [c.replace(' ', '_') for c in df.columns]\n",
    "    return df\n",
    "def NormalizeExperience(filename):\n",
    "    df = pd.read_csv(filename)\n",
    "    df = df.replace(to_replace = ['5-7 years'], value = '5 - 7 years')\n",
    "    df = df.replace(to_replace = ['1 year or less'], value = '0 - 1 years')\n",
    "    return df"
   ]
  },
  {
   "cell_type": "code",
   "execution_count": 66,
   "metadata": {},
   "outputs": [],
   "source": [
    "class currencyConverter:\n",
    "    rates = {}\n",
    "    def __init__(self, url):\n",
    "        data = urllib.request.urlopen(url).read().decode('utf-8')\n",
    "        f = json.loads(data)\n",
    "        self.rates = f[\"rates\"]\n",
    "        \n",
    "        \n",
    "    def convert(self, amount, f, t):\n",
    "        output = 0\n",
    "        if f != 'USD':\n",
    "            output = amount / self.rates[f] * self.rates['USD']\n",
    "            return output\n",
    "        return amount\n",
    "        \n",
    "def convertCurrency(df):\n",
    "    for i in range(len(df['Currency'])):\n",
    "        f = df['Currency'][i]\n",
    "        salary = df['Annual_Salary'][i].replace(',', '')\n",
    "        otherComp = df['Other_Compensation'][i]\n",
    "        if not pd.isna(df['Other_Compensation'][i]):\n",
    "            salary = float(salary) + float(otherComp)\n",
    "        if f == 'Other':\n",
    "            otherCur = df['Other'][i]\n",
    "            if otherCur == 'Peso Argentino' or otherCur == 'Argentinian peso (ARS)' or otherCur == 'Argentine Peso':\n",
    "                otherCur = 'ARS'\n",
    "            if otherCur == 'Indian rupees' or otherCur == 'INR (Indian Rupee)':\n",
    "                otherCur = 'INR'\n",
    "            if otherCur == 'BRL (R$)' or otherCur == 'BR$':\n",
    "                otherCur = 'BRL'\n",
    "            if otherCur == 'Dkk' or otherCur == 'Danish Kroner' or otherCur == 'dkk':\n",
    "                otherCur = 'DKK'\n",
    "            if otherCur == 'Mexican pesos' or otherCur == 'Mexican Pesos':\n",
    "                otherCur = 'MXN'\n",
    "            if otherCur == 'Bdt':\n",
    "                otherCur = 'BDT'\n",
    "            if otherCur == 'American Dollars':\n",
    "                otherCur = 'USD'\n",
    "            if otherCur == 'Php' or otherCur == 'Philippine Peso' or otherCur == 'Philippine peso (PHP)' or otherCur == 'PhP (Philippine Peso)' or otherCur == 'Philippine Pesos':\n",
    "                otherCur = 'PHP'\n",
    "            if otherCur == 'PLN (Polish zloty)' or otherCur == 'Polish Złoty':\n",
    "                otherCur = 'PLN'\n",
    "            if otherCur == 'czech crowns' or otherCur == 'Czk':\n",
    "                otherCur = 'CZK'\n",
    "            if otherCur == 'Norwegian kroner (NOK)' or otherCur == 'Nok':\n",
    "                otherCur = 'NOK'\n",
    "            if otherCur == 'ILS/NIS' or otherCur == 'NIS (new Israeli shekel)' or otherCur == 'ILS (Shekel)' or otherCur == 'Israeli Shekels' or otherCur == 'Ils':\n",
    "                otherCur = 'ILS'\n",
    "            if otherCur == 'US Dollar':\n",
    "                otherCur = 'USD'\n",
    "            if otherCur == 'RMB (chinese yuan)' or otherCur == 'China RMB' or otherCur == 'RM':\n",
    "                otherCur = 'CNY'\n",
    "            if otherCur == 'Taiwanese dollars' or otherCur == 'NTD':\n",
    "                otherCur = 'TWD'\n",
    "            if otherCur == 'KRW (Korean Won)' or otherCur == 'Korean Won ':\n",
    "                otherCur = 'KRW'\n",
    "            if otherCur == 'Sgd':\n",
    "                otherCur = 'SGD'\n",
    "            if otherCur == 'AUD Australian' or otherCur == 'Australian Dollars ':\n",
    "                otherCur = 'AUD'\n",
    "            if otherCur == 'Euro':\n",
    "                otherCur = 'EUR'\n",
    "            if otherCur == 'THAI  BAHT':\n",
    "                otherCur = 'THB'\n",
    "            if otherCur == 'IDR ': \n",
    "                otherCur = 'IDR'\n",
    "            if otherCur in c.rates:\n",
    "                df['Annual_Salary'][i] = \"{:.2f}\".format(c.convert(float(salary), otherCur, 'USD'))\n",
    "        else:\n",
    "            if f == 'AUD/NZD':\n",
    "                f = 'AUD'\n",
    "            if df['Other'][i] == 'COP':\n",
    "                df['Annual_Salary'][i] = \"{:.2f}\".format(c.convert(float(salary), 'COP', 'USD'))\n",
    "            df['Annual_Salary'][i] = \"{:.2f}\".format(c.convert(float(salary), f, 'USD'))\n",
    "    return df\n",
    "\n",
    "c = currencyConverter(\"http://data.fixer.io/api/latest?access_key=238f1925907e0f01a7fa1dc2b4042967\")"
   ]
  },
  {
   "cell_type": "code",
   "execution_count": 67,
   "metadata": {},
   "outputs": [],
   "source": [
    "def cleanGender(filename):\n",
    "    df = pd.read_csv(filename, index=)\n",
    "    for i in range(len(df['Gender'])):\n",
    "        if df['Gender'][i] == \"Prefer not to answer\" or pd.isna(df['Gender'][i]):\n",
    "            df['Gender'][i] = 'Other or prefer not to answer'\n",
    "    return df"
   ]
  },
  {
   "cell_type": "code",
   "execution_count": 68,
   "metadata": {},
   "outputs": [],
   "source": [
    "def cleanRaces(df):\n",
    "    for i in range(len(df['Race'])):\n",
    "        if pd.isna(df['Race'][i]):\n",
    "            df['Race'][i] = 'Another option not listed here or prefer not to answer'\n",
    "        if 'Hispanic, Latino, or Spanish origin' in df['Race'][i]:\n",
    "            df['Race'][i] = df['Race'][i].replace('Hispanic, Latino, ', 'Hispanic Latino ')\n",
    "    return df"
   ]
  },
  {
   "cell_type": "code",
   "execution_count": 55,
   "metadata": {},
   "outputs": [
    {
     "name": "stderr",
     "output_type": "stream",
     "text": [
      "<ipython-input-2-1a58998911e8>:75: SettingWithCopyWarning: \n",
      "A value is trying to be set on a copy of a slice from a DataFrame\n",
      "\n",
      "See the caveats in the documentation: https://pandas.pydata.org/pandas-docs/stable/user_guide/indexing.html#returning-a-view-versus-a-copy\n",
      "  df['Annual_Salary'][i] = \"{:.2f}\".format(c.convert(float(salary), f, 'USD'))\n",
      "<ipython-input-2-1a58998911e8>:68: SettingWithCopyWarning: \n",
      "A value is trying to be set on a copy of a slice from a DataFrame\n",
      "\n",
      "See the caveats in the documentation: https://pandas.pydata.org/pandas-docs/stable/user_guide/indexing.html#returning-a-view-versus-a-copy\n",
      "  df['Annual_Salary'][i] = \"{:.2f}\".format(c.convert(float(salary), otherCur, 'USD'))\n",
      "<ipython-input-2-1a58998911e8>:73: SettingWithCopyWarning: \n",
      "A value is trying to be set on a copy of a slice from a DataFrame\n",
      "\n",
      "See the caveats in the documentation: https://pandas.pydata.org/pandas-docs/stable/user_guide/indexing.html#returning-a-view-versus-a-copy\n",
      "  df['Annual_Salary'][i] = \"{:.2f}\".format(c.convert(float(salary), 'COP', 'USD'))\n",
      "<ipython-input-3-e239823f01dc>:4: SettingWithCopyWarning: \n",
      "A value is trying to be set on a copy of a slice from a DataFrame\n",
      "\n",
      "See the caveats in the documentation: https://pandas.pydata.org/pandas-docs/stable/user_guide/indexing.html#returning-a-view-versus-a-copy\n",
      "  df['Gender'][i] = 'Other or prefer not to answer'\n",
      "<ipython-input-53-8945de18628f>:6: SettingWithCopyWarning: \n",
      "A value is trying to be set on a copy of a slice from a DataFrame\n",
      "\n",
      "See the caveats in the documentation: https://pandas.pydata.org/pandas-docs/stable/user_guide/indexing.html#returning-a-view-versus-a-copy\n",
      "  df['Race'][i] = df['Race'][i].replace('Hispanic, Latino, ', 'Hispanic Latino ')\n"
     ]
    }
   ],
   "source": [
    "table = NormalizeExperience('../Data/2021_Results.csv')\n",
    "\n",
    "table = RemoveSpacesFromTitles(table)\n",
    "\n",
    "table = convertCurrency(table)\n",
    "table = cleanGender(table)\n",
    "table = cleanRaces(table)\n",
    "table = cleanIndustries(table)\n",
    "#table\n",
    "table.to_csv(\"../Data/FinalData2021.csv\")"
   ]
  },
  {
   "cell_type": "code",
   "execution_count": 73,
   "metadata": {},
   "outputs": [
    {
     "name": "stderr",
     "output_type": "stream",
     "text": [
      "<ipython-input-67-959911b1d493>:5: SettingWithCopyWarning: \n",
      "A value is trying to be set on a copy of a slice from a DataFrame\n",
      "\n",
      "See the caveats in the documentation: https://pandas.pydata.org/pandas-docs/stable/user_guide/indexing.html#returning-a-view-versus-a-copy\n",
      "  df['Gender'][i] = 'Other or prefer not to answer'\n",
      "<ipython-input-68-8945de18628f>:6: SettingWithCopyWarning: \n",
      "A value is trying to be set on a copy of a slice from a DataFrame\n",
      "\n",
      "See the caveats in the documentation: https://pandas.pydata.org/pandas-docs/stable/user_guide/indexing.html#returning-a-view-versus-a-copy\n",
      "  df['Race'][i] = df['Race'][i].replace('Hispanic, Latino, ', 'Hispanic Latino ')\n",
      "<ipython-input-68-8945de18628f>:4: SettingWithCopyWarning: \n",
      "A value is trying to be set on a copy of a slice from a DataFrame\n",
      "\n",
      "See the caveats in the documentation: https://pandas.pydata.org/pandas-docs/stable/user_guide/indexing.html#returning-a-view-versus-a-copy\n",
      "  df['Race'][i] = 'Another option not listed here or prefer not to answer'\n"
     ]
    }
   ],
   "source": [
    "table = cleanGender('../Data/CleanedData2021.csv')\n",
    "table = cleanRaces(table)\n",
    "table.to_csv(\"../Data/FinalData2021.csv\")"
   ]
  },
  {
   "cell_type": "code",
   "execution_count": null,
   "metadata": {},
   "outputs": [],
   "source": []
  }
 ],
 "metadata": {
  "kernelspec": {
   "display_name": "Python 3",
   "language": "python",
   "name": "python3"
  },
  "language_info": {
   "codemirror_mode": {
    "name": "ipython",
    "version": 3
   },
   "file_extension": ".py",
   "mimetype": "text/x-python",
   "name": "python",
   "nbconvert_exporter": "python",
   "pygments_lexer": "ipython3",
   "version": "3.8.3"
  }
 },
 "nbformat": 4,
 "nbformat_minor": 4
}